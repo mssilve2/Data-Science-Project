{
 "cells": [
  {
   "cell_type": "markdown",
   "metadata": {},
   "source": [
    "# Running our Models\n",
    "Raveesha Gupta\n",
    "Sarita Sapkota\n",
    "Max Silverstein\n",
    "December 14, 2017\n",
    "\n",
    "Run this notebook after merging the data."
   ]
  },
  {
   "cell_type": "code",
   "execution_count": 1,
   "metadata": {
    "collapsed": true
   },
   "outputs": [],
   "source": [
    "! conda install geopandas -yq\n",
    "import pandas as pd\n",
    "import numpy as np\n",
    "import matplotlib.pyplot as plt\n",
    "\n",
    "import geopandas as gpd\n",
    "from shapely.geometry import Point, Polygon\n",
    "\n",
    "from sklearn.linear_model import LogisticRegression\n",
    "from sklearn.ensemble import RandomForestClassifier\n",
    "from sklearn.model_selection import KFold, train_test_split"
   ]
  },
  {
   "cell_type": "code",
   "execution_count": null,
   "metadata": {
    "collapsed": true
   },
   "outputs": [],
   "source": [
    "#Change Directory\n",
    "import os\n",
    "os.chdir('Project Files')"
   ]
  },
  {
   "cell_type": "code",
   "execution_count": 65,
   "metadata": {},
   "outputs": [
    {
     "name": "stderr",
     "output_type": "stream",
     "text": [
      "/opt/conda/lib/python3.6/site-packages/IPython/core/interactiveshell.py:2698: DtypeWarning: Columns (13) have mixed types. Specify dtype option on import or set low_memory=False.\n",
      "  interactivity=interactivity, compiler=compiler, result=result)\n"
     ]
    }
   ],
   "source": [
    "#Read data in\n",
    "data=pd.read_csv('mergeddata.csv', header = 0, encoding = 'latin-1')\n"
   ]
  },
  {
   "cell_type": "code",
   "execution_count": 66,
   "metadata": {
    "collapsed": true
   },
   "outputs": [],
   "source": [
    "#Imputation: First impute at state level, then national level, all within the same year\n",
    "\n",
    "data[['POPESTIMATE','density','Cardiovascular deaths', 'Medicare enrollees ', \\\n",
    "      'Divorced; Estimate; Population 15 years and over', 'credit_access', 'unemp_rate']] = data.groupby(\\\n",
    "      ['year', 'state'])['POPESTIMATE','density','Cardiovascular deaths', 'Medicare enrollees ', \\\n",
    "      'Divorced; Estimate; Population 15 years and over', 'credit_access', 'unemp_rate'].transform(lambda x: x.fillna(x.mean()))\n",
    "data[['POPESTIMATE','density','Cardiovascular deaths', 'Medicare enrollees ', \\\n",
    "    'Divorced; Estimate; Population 15 years and over', 'credit_access', 'unemp_rate']] = data.groupby(\\\n",
    "     ['year'])['POPESTIMATE','density','Cardiovascular deaths', 'Medicare enrollees ', \\\n",
    "     'Divorced; Estimate; Population 15 years and over', 'credit_access', 'unemp_rate'].transform(lambda x: x.fillna(x.mean()))\n",
    "    \n"
   ]
  },
  {
   "cell_type": "code",
   "execution_count": 67,
   "metadata": {},
   "outputs": [
    {
     "data": {
      "text/plain": [
       "Unnamed: 0                                                         0\n",
       "CTYNAME                                                            0\n",
       "year                                                               0\n",
       "totalfilings                                                       0\n",
       "state                                                              0\n",
       "density                                                            0\n",
       "POPESTIMATE                                                        0\n",
       "credit_access                                                   6217\n",
       "totpop                                                         27046\n",
       "unemp                                                          27046\n",
       "unemp_rate                                                         0\n",
       "State                                                           4403\n",
       "Cardiovascular deaths                                           3071\n",
       "Unnamed: 4                                                     33100\n",
       "Divorced; Estimate; Population 15 years and over                   0\n",
       "Medicare enrollees                                                 0\n",
       "Total Medicare reimbursements per enrollee (Parts A and B)       475\n",
       "dtype: int64"
      ]
     },
     "execution_count": 67,
     "metadata": {},
     "output_type": "execute_result"
    }
   ],
   "source": [
    "#Check for null data\n",
    "data.isnull().sum(axis=0)"
   ]
  },
  {
   "cell_type": "code",
   "execution_count": 68,
   "metadata": {},
   "outputs": [
    {
     "data": {
      "text/html": [
       "<div>\n",
       "<style>\n",
       "    .dataframe thead tr:only-child th {\n",
       "        text-align: right;\n",
       "    }\n",
       "\n",
       "    .dataframe thead th {\n",
       "        text-align: left;\n",
       "    }\n",
       "\n",
       "    .dataframe tbody tr th {\n",
       "        vertical-align: top;\n",
       "    }\n",
       "</style>\n",
       "<table border=\"1\" class=\"dataframe\">\n",
       "  <thead>\n",
       "    <tr style=\"text-align: right;\">\n",
       "      <th></th>\n",
       "      <th>density</th>\n",
       "      <th>Cardiovascular deaths</th>\n",
       "      <th>Medicare enrollees</th>\n",
       "      <th>Divorced; Estimate; Population 15 years and over</th>\n",
       "      <th>credit_access</th>\n",
       "      <th>unemp_rate</th>\n",
       "      <th>POPESTIMATE</th>\n",
       "      <th>totalfilings</th>\n",
       "    </tr>\n",
       "  </thead>\n",
       "  <tbody>\n",
       "    <tr>\n",
       "      <th>6217</th>\n",
       "      <td>83.619981</td>\n",
       "      <td>657.3</td>\n",
       "      <td>853.0</td>\n",
       "      <td>11.72381</td>\n",
       "      <td>73.687540</td>\n",
       "      <td>0.197931</td>\n",
       "      <td>49835.0</td>\n",
       "      <td>194.0</td>\n",
       "    </tr>\n",
       "    <tr>\n",
       "      <th>6218</th>\n",
       "      <td>108.278886</td>\n",
       "      <td>553.8</td>\n",
       "      <td>4217.0</td>\n",
       "      <td>10.80000</td>\n",
       "      <td>74.223203</td>\n",
       "      <td>0.244499</td>\n",
       "      <td>172851.0</td>\n",
       "      <td>670.0</td>\n",
       "    </tr>\n",
       "    <tr>\n",
       "      <th>6219</th>\n",
       "      <td>33.603797</td>\n",
       "      <td>601.9</td>\n",
       "      <td>620.0</td>\n",
       "      <td>11.72381</td>\n",
       "      <td>61.111111</td>\n",
       "      <td>0.197931</td>\n",
       "      <td>29736.0</td>\n",
       "      <td>146.0</td>\n",
       "    </tr>\n",
       "    <tr>\n",
       "      <th>6220</th>\n",
       "      <td>34.364316</td>\n",
       "      <td>684.8</td>\n",
       "      <td>360.0</td>\n",
       "      <td>11.72381</td>\n",
       "      <td>56.521739</td>\n",
       "      <td>0.197931</td>\n",
       "      <td>21410.0</td>\n",
       "      <td>105.0</td>\n",
       "    </tr>\n",
       "    <tr>\n",
       "      <th>6221</th>\n",
       "      <td>88.079121</td>\n",
       "      <td>658.6</td>\n",
       "      <td>758.0</td>\n",
       "      <td>11.72381</td>\n",
       "      <td>72.299652</td>\n",
       "      <td>0.197931</td>\n",
       "      <td>56863.0</td>\n",
       "      <td>187.0</td>\n",
       "    </tr>\n",
       "  </tbody>\n",
       "</table>\n",
       "</div>"
      ],
      "text/plain": [
       "         density  Cardiovascular deaths  Medicare enrollees   \\\n",
       "6217   83.619981                  657.3                853.0   \n",
       "6218  108.278886                  553.8               4217.0   \n",
       "6219   33.603797                  601.9                620.0   \n",
       "6220   34.364316                  684.8                360.0   \n",
       "6221   88.079121                  658.6                758.0   \n",
       "\n",
       "      Divorced; Estimate; Population 15 years and over  credit_access  \\\n",
       "6217                                          11.72381      73.687540   \n",
       "6218                                          10.80000      74.223203   \n",
       "6219                                          11.72381      61.111111   \n",
       "6220                                          11.72381      56.521739   \n",
       "6221                                          11.72381      72.299652   \n",
       "\n",
       "      unemp_rate  POPESTIMATE  totalfilings  \n",
       "6217    0.197931      49835.0         194.0  \n",
       "6218    0.244499     172851.0         670.0  \n",
       "6219    0.197931      29736.0         146.0  \n",
       "6220    0.197931      21410.0         105.0  \n",
       "6221    0.197931      56863.0         187.0  "
      ]
     },
     "execution_count": 68,
     "metadata": {},
     "output_type": "execute_result"
    }
   ],
   "source": [
    "#Set x and y vars\n",
    "xvars=['density','Cardiovascular deaths', 'Medicare enrollees ', 'Divorced; Estimate; Population 15 years and over', \\\n",
    "       'credit_access', 'unemp_rate', 'POPESTIMATE' ]\n",
    "#xvars=['density','Cardiovascular deaths', 'Medicare enrollees ', 'Divorced; Estimate; Population 15 years and over']\n",
    "yvar=['totalfilings'] \n",
    "myvars = xvars + yvar\n",
    "data[myvars].dropna().head()"
   ]
  },
  {
   "cell_type": "code",
   "execution_count": 69,
   "metadata": {
    "collapsed": true
   },
   "outputs": [],
   "source": [
    "#Train and Test Indices\n",
    "\n",
    "dfdna = data[myvars].dropna().reset_index(drop=True)\n",
    "\n",
    "df_train, df_test = train_test_split (dfdna[myvars], test_size=0.25, random_state=42)\n"
   ]
  },
  {
   "cell_type": "code",
   "execution_count": 92,
   "metadata": {
    "scrolled": true
   },
   "outputs": [
    {
     "name": "stdout",
     "output_type": "stream",
     "text": [
      "LinearRegression R^2: 60.5\n",
      "LinearRegression MAE: 338.562281946\n",
      "density: -7.8\n",
      "Cardiovascular deaths: 66.6\n",
      "Medicare enrollees : 9.2\n",
      "Divorced; Estimate; Population 15 years and over: 1557.9\n",
      "credit_access: 513.1\n",
      "unemp_rate: -28490.3\n",
      "POPESTIMATE: 0.1\n",
      "LinearRegression R^2: 73.4\n",
      "LinearRegression MAE: 294.266272875\n",
      "density: -8.3\n",
      "Cardiovascular deaths: 73.3\n",
      "Medicare enrollees : 8.6\n",
      "Divorced; Estimate; Population 15 years and over: 1170.9\n",
      "credit_access: 572.4\n",
      "unemp_rate: -24116.6\n",
      "POPESTIMATE: 0.1\n",
      "LinearRegression R^2: 45.7\n",
      "LinearRegression MAE: 322.155901384\n",
      "density: -8.7\n",
      "Cardiovascular deaths: 73.6\n",
      "Medicare enrollees : 8.4\n",
      "Divorced; Estimate; Population 15 years and over: 913.3\n",
      "credit_access: 634.3\n",
      "unemp_rate: -21809.3\n",
      "POPESTIMATE: 0.1\n",
      "LinearRegression R^2: 71.0\n",
      "LinearRegression MAE: 265.128327168\n",
      "density: -9.6\n",
      "Cardiovascular deaths: 71.0\n",
      "Medicare enrollees : 8.3\n",
      "Divorced; Estimate; Population 15 years and over: 1242.3\n",
      "credit_access: 621.8\n",
      "unemp_rate: -19610.4\n",
      "POPESTIMATE: 0.1\n",
      "LinearRegression R^2: 78.5\n",
      "LinearRegression MAE: 307.221236475\n",
      "density: -6.6\n",
      "Cardiovascular deaths: 57.4\n",
      "Medicare enrollees : 8.3\n",
      "Divorced; Estimate; Population 15 years and over: 1242.9\n",
      "credit_access: 581.2\n",
      "unemp_rate: -20732.6\n",
      "POPESTIMATE: 0.1\n",
      "Ridge R^2: 60.5\n",
      "Ridge MAE: 338.557751076\n",
      "density: -7.8\n",
      "Cardiovascular deaths: 66.6\n",
      "Medicare enrollees : 9.2\n",
      "Divorced; Estimate; Population 15 years and over: 1557.5\n",
      "credit_access: 513.2\n",
      "unemp_rate: -28467.2\n",
      "POPESTIMATE: 0.1\n",
      "Ridge R^2: 73.4\n",
      "Ridge MAE: 294.262066262\n",
      "density: -8.3\n",
      "Cardiovascular deaths: 73.3\n",
      "Medicare enrollees : 8.6\n",
      "Divorced; Estimate; Population 15 years and over: 1170.6\n",
      "credit_access: 572.5\n",
      "unemp_rate: -24097.0\n",
      "POPESTIMATE: 0.1\n",
      "Ridge R^2: 45.7\n",
      "Ridge MAE: 322.155699072\n",
      "density: -8.7\n",
      "Cardiovascular deaths: 73.6\n",
      "Medicare enrollees : 8.4\n",
      "Divorced; Estimate; Population 15 years and over: 913.0\n",
      "credit_access: 634.4\n",
      "unemp_rate: -21791.5\n",
      "POPESTIMATE: 0.1\n",
      "Ridge R^2: 71.0\n",
      "Ridge MAE: 265.128007798\n",
      "density: -9.6\n",
      "Cardiovascular deaths: 71.0\n",
      "Medicare enrollees : 8.3\n",
      "Divorced; Estimate; Population 15 years and over: 1242.0\n",
      "credit_access: 622.0\n",
      "unemp_rate: -19594.6\n",
      "POPESTIMATE: 0.1\n",
      "Ridge R^2: 78.5\n",
      "Ridge MAE: 307.216431332\n",
      "density: -6.6\n",
      "Cardiovascular deaths: 57.4\n",
      "Medicare enrollees : 8.3\n",
      "Divorced; Estimate; Population 15 years and over: 1242.6\n",
      "credit_access: 581.3\n",
      "unemp_rate: -20715.5\n",
      "POPESTIMATE: 0.1\n",
      "Lasso R^2: 60.5\n",
      "Lasso MAE: 338.310693707\n"
     ]
    },
    {
     "ename": "TypeError",
     "evalue": "zip argument #2 must support iteration",
     "output_type": "error",
     "traceback": [
      "\u001b[0;31m---------------------------------------------------------------------------\u001b[0m",
      "\u001b[0;31mTypeError\u001b[0m                                 Traceback (most recent call last)",
      "\u001b[0;32m<ipython-input-92-92f9dac78c94>\u001b[0m in \u001b[0;36m<module>\u001b[0;34m()\u001b[0m\n\u001b[1;32m     21\u001b[0m         \u001b[0;31m#print(name + ' MSE: '+ str(mean_squared_error(y_test,predicted)))\u001b[0m\u001b[0;34m\u001b[0m\u001b[0;34m\u001b[0m\u001b[0m\n\u001b[1;32m     22\u001b[0m         \u001b[0mprint\u001b[0m\u001b[0;34m(\u001b[0m\u001b[0mname\u001b[0m \u001b[0;34m+\u001b[0m \u001b[0;34m' MAE: '\u001b[0m\u001b[0;34m+\u001b[0m \u001b[0mstr\u001b[0m\u001b[0;34m(\u001b[0m\u001b[0mmean_absolute_error\u001b[0m\u001b[0;34m(\u001b[0m\u001b[0my_test\u001b[0m\u001b[0;34m,\u001b[0m\u001b[0mpredicted\u001b[0m\u001b[0;34m)\u001b[0m\u001b[0;34m)\u001b[0m\u001b[0;34m)\u001b[0m\u001b[0;34m\u001b[0m\u001b[0m\n\u001b[0;32m---> 23\u001b[0;31m         \u001b[0;32mfor\u001b[0m \u001b[0mvar\u001b[0m\u001b[0;34m,\u001b[0m \u001b[0mfeat\u001b[0m \u001b[0;32min\u001b[0m \u001b[0mzip\u001b[0m\u001b[0;34m(\u001b[0m\u001b[0mxvars\u001b[0m\u001b[0;34m,\u001b[0m \u001b[0mregressor\u001b[0m\u001b[0;34m.\u001b[0m\u001b[0mcoef_\u001b[0m\u001b[0;34m[\u001b[0m\u001b[0;36m0\u001b[0m\u001b[0;34m]\u001b[0m\u001b[0;34m)\u001b[0m \u001b[0;34m:\u001b[0m\u001b[0;34m\u001b[0m\u001b[0m\n\u001b[0m\u001b[1;32m     24\u001b[0m             \u001b[0mprint\u001b[0m\u001b[0;34m(\u001b[0m\u001b[0mvar\u001b[0m \u001b[0;34m+\u001b[0m \u001b[0;34m': '\u001b[0m \u001b[0;34m+\u001b[0m \u001b[0mstr\u001b[0m\u001b[0;34m(\u001b[0m\u001b[0;36m100\u001b[0m \u001b[0;34m*\u001b[0m \u001b[0mround\u001b[0m\u001b[0;34m(\u001b[0m\u001b[0mfeat\u001b[0m\u001b[0;34m,\u001b[0m \u001b[0;36m3\u001b[0m\u001b[0;34m)\u001b[0m\u001b[0;34m)\u001b[0m\u001b[0;34m)\u001b[0m\u001b[0;34m\u001b[0m\u001b[0m\n\u001b[1;32m     25\u001b[0m \u001b[0;34m\u001b[0m\u001b[0m\n",
      "\u001b[0;31mTypeError\u001b[0m: zip argument #2 must support iteration"
     ]
    }
   ],
   "source": [
    "#Cross Validation: Individual Models\n",
    "\n",
    "from sklearn.linear_model import LinearRegression\n",
    "from sklearn.linear_model import Ridge\n",
    "from sklearn.linear_model import Lasso\n",
    "from sklearn.metrics import mean_squared_error\n",
    "from sklearn.metrics import mean_absolute_error\n",
    "\n",
    "names = [\"LinearRegression\", 'Ridge', 'Lasso']\n",
    "\n",
    "regressors = [LinearRegression(), Ridge(), Lasso()]\n",
    "for name, regressor in zip(names, regressors):\n",
    "    cv = KFold(n_splits=5, shuffle=True, random_state=1)\n",
    "    for train_index, test_index in cv.split(df_train):\n",
    "        X_train = df_train.loc[train_index][xvars].dropna()\n",
    "        y_train = df_train.loc[train_index][yvar].dropna()\n",
    "        X_test = df_train.loc[test_index][xvars].dropna()\n",
    "        y_test = df_train.loc[test_index][yvar].dropna()\n",
    "        regressor.fit(X_train, y_train)\n",
    "        predicted = regressor.predict(X_test)\n",
    "        score = regressor.score(X_test, y_test)\n",
    "        print(name + ' R^2: '+str(100 * round(score, 3)))\n",
    "        #print(name + ' MSE: '+ str(mean_squared_error(y_test,predicted)))\n",
    "        print(name + ' MAE: '+ str(mean_absolute_error(y_test,predicted)))\n",
    "        #for var, feat in zip(xvars, regressor.coef_[0]) :\n",
    "        #   print(var + ': ' + str(100 * round(feat, 3)))\n",
    "        "
   ]
  },
  {
   "cell_type": "code",
   "execution_count": 84,
   "metadata": {},
   "outputs": [
    {
     "name": "stderr",
     "output_type": "stream",
     "text": [
      "/opt/conda/lib/python3.6/site-packages/ipykernel_launcher.py:15: DataConversionWarning: A column-vector y was passed when a 1d array was expected. Please change the shape of y to (n_samples,), for example using ravel().\n",
      "  from ipykernel import kernelapp as app\n"
     ]
    },
    {
     "name": "stdout",
     "output_type": "stream",
     "text": [
      "RandomForestRegressor R^2: 88.5\n",
      "RandomForestRegressor MAE: 112.91\n",
      "Feature Importance:\n",
      "density: 2.0\n",
      "Cardiovascular deaths: 2.2\n",
      "Medicare enrollees : 56.9\n",
      "Divorced; Estimate; Population 15 years and over: 3.7\n",
      "credit_access: 2.4\n",
      "unemp_rate: 1.9\n",
      "POPESTIMATE: 30.9\n"
     ]
    },
    {
     "name": "stderr",
     "output_type": "stream",
     "text": [
      "/opt/conda/lib/python3.6/site-packages/ipykernel_launcher.py:15: DataConversionWarning: A column-vector y was passed when a 1d array was expected. Please change the shape of y to (n_samples,), for example using ravel().\n",
      "  from ipykernel import kernelapp as app\n"
     ]
    },
    {
     "name": "stdout",
     "output_type": "stream",
     "text": [
      "RandomForestRegressor R^2: 86.3\n",
      "RandomForestRegressor MAE: 115.922\n",
      "Feature Importance:\n",
      "density: 1.9\n",
      "Cardiovascular deaths: 1.8\n",
      "Medicare enrollees : 37.8\n",
      "Divorced; Estimate; Population 15 years and over: 5.5\n",
      "credit_access: 2.0\n",
      "unemp_rate: 2.7\n",
      "POPESTIMATE: 48.3\n"
     ]
    },
    {
     "name": "stderr",
     "output_type": "stream",
     "text": [
      "/opt/conda/lib/python3.6/site-packages/ipykernel_launcher.py:15: DataConversionWarning: A column-vector y was passed when a 1d array was expected. Please change the shape of y to (n_samples,), for example using ravel().\n",
      "  from ipykernel import kernelapp as app\n"
     ]
    },
    {
     "name": "stdout",
     "output_type": "stream",
     "text": [
      "RandomForestRegressor R^2: 76.4\n",
      "RandomForestRegressor MAE: 119.879\n",
      "Feature Importance:\n",
      "density: 2.2\n",
      "Cardiovascular deaths: 2.0\n",
      "Medicare enrollees : 45.3\n",
      "Divorced; Estimate; Population 15 years and over: 3.9\n",
      "credit_access: 2.2\n",
      "unemp_rate: 3.9\n",
      "POPESTIMATE: 40.6\n"
     ]
    },
    {
     "name": "stderr",
     "output_type": "stream",
     "text": [
      "/opt/conda/lib/python3.6/site-packages/ipykernel_launcher.py:15: DataConversionWarning: A column-vector y was passed when a 1d array was expected. Please change the shape of y to (n_samples,), for example using ravel().\n",
      "  from ipykernel import kernelapp as app\n"
     ]
    },
    {
     "name": "stdout",
     "output_type": "stream",
     "text": [
      "RandomForestRegressor R^2: 96.1\n",
      "RandomForestRegressor MAE: 84.96\n",
      "Feature Importance:\n",
      "density: 2.5\n",
      "Cardiovascular deaths: 1.9\n",
      "Medicare enrollees : 35.9\n",
      "Divorced; Estimate; Population 15 years and over: 6.1\n",
      "credit_access: 1.6\n",
      "unemp_rate: 2.9\n",
      "POPESTIMATE: 49.0\n"
     ]
    },
    {
     "name": "stderr",
     "output_type": "stream",
     "text": [
      "/opt/conda/lib/python3.6/site-packages/ipykernel_launcher.py:15: DataConversionWarning: A column-vector y was passed when a 1d array was expected. Please change the shape of y to (n_samples,), for example using ravel().\n",
      "  from ipykernel import kernelapp as app\n"
     ]
    },
    {
     "name": "stdout",
     "output_type": "stream",
     "text": [
      "RandomForestRegressor R^2: 94.9\n",
      "RandomForestRegressor MAE: 113.824\n",
      "Feature Importance:\n",
      "density: 3.9\n",
      "Cardiovascular deaths: 1.9\n",
      "Medicare enrollees : 31.4\n",
      "Divorced; Estimate; Population 15 years and over: 6.4\n",
      "credit_access: 2.0\n",
      "unemp_rate: 4.7\n",
      "POPESTIMATE: 49.7\n"
     ]
    },
    {
     "name": "stderr",
     "output_type": "stream",
     "text": [
      "/opt/conda/lib/python3.6/site-packages/sklearn/utils/validation.py:526: DataConversionWarning: A column-vector y was passed when a 1d array was expected. Please change the shape of y to (n_samples, ), for example using ravel().\n",
      "  y = column_or_1d(y, warn=True)\n"
     ]
    },
    {
     "name": "stdout",
     "output_type": "stream",
     "text": [
      "GradientBoostingRegressor R^2: 91.2\n",
      "GradientBoostingRegressor MAE: 147.387\n",
      "Feature Importance:\n",
      "density: 13.9\n",
      "Cardiovascular deaths: 5.1\n",
      "Medicare enrollees : 15.2\n",
      "Divorced; Estimate; Population 15 years and over: 6.9\n",
      "credit_access: 6.9\n",
      "unemp_rate: 6.7\n",
      "POPESTIMATE: 45.3\n",
      "GradientBoostingRegressor R^2: 92.5\n",
      "GradientBoostingRegressor MAE: 142.944\n",
      "Feature Importance:\n",
      "density: 14.6\n",
      "Cardiovascular deaths: 3.4\n",
      "Medicare enrollees : 15.4\n",
      "Divorced; Estimate; Population 15 years and over: 5.9\n",
      "credit_access: 5.7\n",
      "unemp_rate: 9.5\n",
      "POPESTIMATE: 45.4\n",
      "GradientBoostingRegressor R^2: 78.2\n",
      "GradientBoostingRegressor MAE: 155.158\n",
      "Feature Importance:\n",
      "density: 11.9\n",
      "Cardiovascular deaths: 8.0\n",
      "Medicare enrollees : 17.2\n",
      "Divorced; Estimate; Population 15 years and over: 8.5\n",
      "credit_access: 5.6\n",
      "unemp_rate: 6.4\n",
      "POPESTIMATE: 42.4\n",
      "GradientBoostingRegressor R^2: 93.9\n",
      "GradientBoostingRegressor MAE: 121.417\n",
      "Feature Importance:\n",
      "density: 15.9\n",
      "Cardiovascular deaths: 8.2\n",
      "Medicare enrollees : 13.3\n",
      "Divorced; Estimate; Population 15 years and over: 4.9\n",
      "credit_access: 6.0\n",
      "unemp_rate: 7.5\n",
      "POPESTIMATE: 44.1\n",
      "GradientBoostingRegressor R^2: 92.4\n",
      "GradientBoostingRegressor MAE: 145.785\n",
      "Feature Importance:\n",
      "density: 17.8\n",
      "Cardiovascular deaths: 5.6\n",
      "Medicare enrollees : 14.3\n",
      "Divorced; Estimate; Population 15 years and over: 8.0\n",
      "credit_access: 5.4\n",
      "unemp_rate: 4.6\n",
      "POPESTIMATE: 44.4\n"
     ]
    }
   ],
   "source": [
    "#Cross Validation: Ensemble Models\n",
    "\n",
    "from sklearn.ensemble import GradientBoostingRegressor\n",
    "from sklearn.ensemble import RandomForestRegressor\n",
    "\n",
    "names = [\"RandomForestRegressor\", 'GradientBoostingRegressor']\n",
    "\n",
    "regressors = [RandomForestRegressor(), GradientBoostingRegressor()]\n",
    "\n",
    "for name, regressor in zip(names, regressors):\n",
    "    cv = KFold(n_splits=5, shuffle=True, random_state=1)\n",
    "    for train_index, test_index in cv.split(df_train):\n",
    "        X_train = df_train.loc[train_index][xvars].dropna()\n",
    "        y_train = df_train.loc[train_index][yvar].dropna()\n",
    "        X_test = df_train.loc[test_index][xvars].dropna()\n",
    "        y_test = df_train.loc[test_index][yvar].dropna()\n",
    "        regressor.fit(X_train, y_train)\n",
    "        predicted = regressor.predict(X_test)\n",
    "        score = regressor.score(X_test, y_test)\n",
    "        print(name + ' R^2: '+str(100 * round(score, 3)))\n",
    "        #print(name +' MSE: '+ str(round(mean_squared_error(y_test,predicted),3)))\n",
    "        print(name +' MAE: '+ str(round(mean_absolute_error(y_test,predicted), 3)))\n",
    "        print(\"Feature Importance:\")\n",
    "        for var, feat in zip(xvars, regressor.feature_importances_) :\n",
    "            print(var + ': ' + str(100 * round(feat, 3)))\n",
    "\n"
   ]
  },
  {
   "cell_type": "code",
   "execution_count": 83,
   "metadata": {
    "scrolled": false
   },
   "outputs": [
    {
     "name": "stderr",
     "output_type": "stream",
     "text": [
      "/opt/conda/lib/python3.6/site-packages/ipykernel_launcher.py:15: DataConversionWarning: A column-vector y was passed when a 1d array was expected. Please change the shape of y to (n_samples,), for example using ravel().\n",
      "  from ipykernel import kernelapp as app\n",
      "/opt/conda/lib/python3.6/site-packages/sklearn/utils/validation.py:526: DataConversionWarning: A column-vector y was passed when a 1d array was expected. Please change the shape of y to (n_samples, ), for example using ravel().\n",
      "  y = column_or_1d(y, warn=True)\n"
     ]
    },
    {
     "name": "stdout",
     "output_type": "stream",
     "text": [
      "RandomForestRegressor R^2  for Year 2008: 70.2\n",
      "RandomForestRegressor MAE  for Year 2008: 129.043\n",
      "density: 5.2\n",
      "Cardiovascular deaths: 7.9\n",
      "Medicare enrollees : 24.8\n",
      "Divorced; Estimate; Population 15 years and over: 4.2\n",
      "credit_access: 0.9\n",
      "unemp_rate: 1.2\n",
      "POPESTIMATE: 55.8\n",
      "GradientBoostingRegressor R^2  for Year 2008: 74.4\n",
      "GradientBoostingRegressor MAE  for Year 2008: 135.735\n",
      "density: 22.7\n",
      "Cardiovascular deaths: 14.2\n",
      "Medicare enrollees : 29.6\n",
      "Divorced; Estimate; Population 15 years and over: 8.5\n",
      "credit_access: 2.7\n",
      "unemp_rate: 1.3\n",
      "POPESTIMATE: 21.1\n"
     ]
    },
    {
     "name": "stderr",
     "output_type": "stream",
     "text": [
      "/opt/conda/lib/python3.6/site-packages/ipykernel_launcher.py:15: DataConversionWarning: A column-vector y was passed when a 1d array was expected. Please change the shape of y to (n_samples,), for example using ravel().\n",
      "  from ipykernel import kernelapp as app\n"
     ]
    },
    {
     "name": "stdout",
     "output_type": "stream",
     "text": [
      "RandomForestRegressor R^2  for Year 2009: 74.2\n",
      "RandomForestRegressor MAE  for Year 2009: 172.469\n",
      "density: 2.9\n",
      "Cardiovascular deaths: 7.1\n",
      "Medicare enrollees : 40.9\n",
      "Divorced; Estimate; Population 15 years and over: 3.2\n",
      "credit_access: 0.9\n",
      "unemp_rate: 2.6\n",
      "POPESTIMATE: 42.4\n"
     ]
    },
    {
     "name": "stderr",
     "output_type": "stream",
     "text": [
      "/opt/conda/lib/python3.6/site-packages/sklearn/utils/validation.py:526: DataConversionWarning: A column-vector y was passed when a 1d array was expected. Please change the shape of y to (n_samples, ), for example using ravel().\n",
      "  y = column_or_1d(y, warn=True)\n"
     ]
    },
    {
     "name": "stdout",
     "output_type": "stream",
     "text": [
      "GradientBoostingRegressor R^2  for Year 2009: 79.1\n",
      "GradientBoostingRegressor MAE  for Year 2009: 186.695\n",
      "density: 17.9\n",
      "Cardiovascular deaths: 10.5\n",
      "Medicare enrollees : 23.7\n",
      "Divorced; Estimate; Population 15 years and over: 6.9\n",
      "credit_access: 5.7\n",
      "unemp_rate: 5.6\n",
      "POPESTIMATE: 29.7\n"
     ]
    },
    {
     "name": "stderr",
     "output_type": "stream",
     "text": [
      "/opt/conda/lib/python3.6/site-packages/ipykernel_launcher.py:15: DataConversionWarning: A column-vector y was passed when a 1d array was expected. Please change the shape of y to (n_samples,), for example using ravel().\n",
      "  from ipykernel import kernelapp as app\n"
     ]
    },
    {
     "name": "stdout",
     "output_type": "stream",
     "text": [
      "RandomForestRegressor R^2  for Year 2010: -95.5\n",
      "RandomForestRegressor MAE  for Year 2010: 638.882\n",
      "density: 3.1\n",
      "Cardiovascular deaths: 3.9\n",
      "Medicare enrollees : 36.0\n",
      "Divorced; Estimate; Population 15 years and over: 4.5\n",
      "credit_access: 1.5\n",
      "unemp_rate: 5.7\n",
      "POPESTIMATE: 45.3\n"
     ]
    },
    {
     "name": "stderr",
     "output_type": "stream",
     "text": [
      "/opt/conda/lib/python3.6/site-packages/sklearn/utils/validation.py:526: DataConversionWarning: A column-vector y was passed when a 1d array was expected. Please change the shape of y to (n_samples, ), for example using ravel().\n",
      "  y = column_or_1d(y, warn=True)\n"
     ]
    },
    {
     "name": "stdout",
     "output_type": "stream",
     "text": [
      "GradientBoostingRegressor R^2  for Year 2010: -169.4\n",
      "GradientBoostingRegressor MAE  for Year 2010: 965.66\n",
      "density: 12.6\n",
      "Cardiovascular deaths: 8.2\n",
      "Medicare enrollees : 24.6\n",
      "Divorced; Estimate; Population 15 years and over: 4.8\n",
      "credit_access: 5.0\n",
      "unemp_rate: 8.2\n",
      "POPESTIMATE: 36.6\n"
     ]
    },
    {
     "name": "stderr",
     "output_type": "stream",
     "text": [
      "/opt/conda/lib/python3.6/site-packages/ipykernel_launcher.py:15: DataConversionWarning: A column-vector y was passed when a 1d array was expected. Please change the shape of y to (n_samples,), for example using ravel().\n",
      "  from ipykernel import kernelapp as app\n"
     ]
    },
    {
     "name": "stdout",
     "output_type": "stream",
     "text": [
      "RandomForestRegressor R^2  for Year 2011: 94.3\n",
      "RandomForestRegressor MAE  for Year 2011: 121.687\n",
      "density: 4.1\n",
      "Cardiovascular deaths: 2.2\n",
      "Medicare enrollees : 38.9\n",
      "Divorced; Estimate; Population 15 years and over: 3.0\n",
      "credit_access: 3.5\n",
      "unemp_rate: 2.7\n",
      "POPESTIMATE: 45.6\n"
     ]
    },
    {
     "name": "stderr",
     "output_type": "stream",
     "text": [
      "/opt/conda/lib/python3.6/site-packages/sklearn/utils/validation.py:526: DataConversionWarning: A column-vector y was passed when a 1d array was expected. Please change the shape of y to (n_samples, ), for example using ravel().\n",
      "  y = column_or_1d(y, warn=True)\n"
     ]
    },
    {
     "name": "stdout",
     "output_type": "stream",
     "text": [
      "GradientBoostingRegressor R^2  for Year 2011: 95.2\n",
      "GradientBoostingRegressor MAE  for Year 2011: 146.721\n",
      "density: 11.5\n",
      "Cardiovascular deaths: 7.7\n",
      "Medicare enrollees : 17.5\n",
      "Divorced; Estimate; Population 15 years and over: 7.2\n",
      "credit_access: 5.3\n",
      "unemp_rate: 10.1\n",
      "POPESTIMATE: 40.6\n"
     ]
    },
    {
     "name": "stderr",
     "output_type": "stream",
     "text": [
      "/opt/conda/lib/python3.6/site-packages/ipykernel_launcher.py:15: DataConversionWarning: A column-vector y was passed when a 1d array was expected. Please change the shape of y to (n_samples,), for example using ravel().\n",
      "  from ipykernel import kernelapp as app\n"
     ]
    },
    {
     "name": "stdout",
     "output_type": "stream",
     "text": [
      "RandomForestRegressor R^2  for Year 2012: 91.2\n",
      "RandomForestRegressor MAE  for Year 2012: 123.467\n",
      "density: 7.0\n",
      "Cardiovascular deaths: 1.5\n",
      "Medicare enrollees : 24.1\n",
      "Divorced; Estimate; Population 15 years and over: 6.5\n",
      "credit_access: 1.0\n",
      "unemp_rate: 3.2\n",
      "POPESTIMATE: 56.7\n"
     ]
    },
    {
     "name": "stderr",
     "output_type": "stream",
     "text": [
      "/opt/conda/lib/python3.6/site-packages/sklearn/utils/validation.py:526: DataConversionWarning: A column-vector y was passed when a 1d array was expected. Please change the shape of y to (n_samples, ), for example using ravel().\n",
      "  y = column_or_1d(y, warn=True)\n"
     ]
    },
    {
     "name": "stdout",
     "output_type": "stream",
     "text": [
      "GradientBoostingRegressor R^2  for Year 2012: 91.1\n",
      "GradientBoostingRegressor MAE  for Year 2012: 152.851\n",
      "density: 14.8\n",
      "Cardiovascular deaths: 6.6\n",
      "Medicare enrollees : 17.0\n",
      "Divorced; Estimate; Population 15 years and over: 7.5\n",
      "credit_access: 6.2\n",
      "unemp_rate: 8.8\n",
      "POPESTIMATE: 39.2\n"
     ]
    },
    {
     "name": "stderr",
     "output_type": "stream",
     "text": [
      "/opt/conda/lib/python3.6/site-packages/ipykernel_launcher.py:15: DataConversionWarning: A column-vector y was passed when a 1d array was expected. Please change the shape of y to (n_samples,), for example using ravel().\n",
      "  from ipykernel import kernelapp as app\n"
     ]
    },
    {
     "name": "stdout",
     "output_type": "stream",
     "text": [
      "RandomForestRegressor R^2  for Year 2013: 85.4\n",
      "RandomForestRegressor MAE  for Year 2013: 117.852\n",
      "density: 3.1\n",
      "Cardiovascular deaths: 1.5\n",
      "Medicare enrollees : 52.7\n",
      "Divorced; Estimate; Population 15 years and over: 2.4\n",
      "credit_access: 0.8\n",
      "unemp_rate: 4.0\n",
      "POPESTIMATE: 35.5\n"
     ]
    },
    {
     "name": "stderr",
     "output_type": "stream",
     "text": [
      "/opt/conda/lib/python3.6/site-packages/sklearn/utils/validation.py:526: DataConversionWarning: A column-vector y was passed when a 1d array was expected. Please change the shape of y to (n_samples, ), for example using ravel().\n",
      "  y = column_or_1d(y, warn=True)\n"
     ]
    },
    {
     "name": "stdout",
     "output_type": "stream",
     "text": [
      "GradientBoostingRegressor R^2  for Year 2013: 84.6\n",
      "GradientBoostingRegressor MAE  for Year 2013: 151.141\n",
      "density: 14.9\n",
      "Cardiovascular deaths: 5.3\n",
      "Medicare enrollees : 25.7\n",
      "Divorced; Estimate; Population 15 years and over: 7.3\n",
      "credit_access: 5.9\n",
      "unemp_rate: 9.6\n",
      "POPESTIMATE: 31.4\n"
     ]
    }
   ],
   "source": [
    "#Cross Validation by Year\n",
    "\n",
    "data['year'] = data['year'].astype('int64')\n",
    "data = data[(data.year != 2005)]\n",
    "data = data[(data.year != 2006)]\n",
    "years = data['year'].unique()\n",
    "\n",
    "for year in range(2008,2014):\n",
    "    test = data[(data['year']==year)]\n",
    "    #train = data[(data['year'] < year)]\n",
    "    train = data[(data.year == year-3) | (data.year == year-2) |(data.year ==  year-1)]\n",
    "    for name, regressor in zip(names, regressors):\n",
    "        X_train = train[xvars].dropna()\n",
    "        y_train = train[yvar].dropna()\n",
    "        X_test = test[xvars].dropna()\n",
    "        y_test = test[yvar].dropna()\n",
    "        regressor.fit(X_train, y_train)\n",
    "        predicted = regressor.predict(X_test)\n",
    "        score = regressor.score(X_test, y_test)\n",
    "        print(name + ' R^2 '+ ' for Year '+str(year)+': ' + str(100 * round(score, 3)))\n",
    "        print(name + ' MAE '+ ' for Year '+str(year)+': '+ str(round(mean_absolute_error(y_test,predicted),3)))\n",
    "        for var, feat in zip(xvars, regressor.feature_importances_):\n",
    "            print(var + ': ' + str(100 * round(feat, 3)))"
   ]
  }
 ],
 "metadata": {
  "kernelspec": {
   "display_name": "Python 3",
   "language": "python",
   "name": "python3"
  },
  "language_info": {
   "codemirror_mode": {
    "name": "ipython",
    "version": 3
   },
   "file_extension": ".py",
   "mimetype": "text/x-python",
   "name": "python",
   "nbconvert_exporter": "python",
   "pygments_lexer": "ipython3",
   "version": "3.6.2"
  }
 },
 "nbformat": 4,
 "nbformat_minor": 2
}
